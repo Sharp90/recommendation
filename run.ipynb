{
 "cells": [
  {
   "cell_type": "code",
   "execution_count": 55,
   "metadata": {},
   "outputs": [
    {
     "name": "stdout",
     "output_type": "stream",
     "text": [
      "Reading: 18486 tracks, 4506 albums, 1533 artists\n"
     ]
    }
   ],
   "source": [
    "from scripts import commons\n",
    "\n",
    "input_file = 'data/autotagging_moodtheme.tsv'\n",
    "tracks, tags, extra = commons.read_file(input_file)"
   ]
  },
  {
   "cell_type": "code",
   "execution_count": null,
   "metadata": {},
   "outputs": [],
   "source": [
    "tags"
   ]
  },
  {
   "cell_type": "code",
   "execution_count": 321,
   "metadata": {},
   "outputs": [
    {
     "name": "stdout",
     "output_type": "stream",
     "text": [
      "(96, 6845)\n",
      "(96, 6845)\n"
     ]
    }
   ],
   "source": [
    "import numpy as np\n",
    "\n",
    "song1 = np.load('path/npy/00/7400.npy')\n",
    "print(np.shape(song1))\n",
    "song2 = np.load('path/audio/00/7400.npy')\n",
    "print(np.shape(song2))"
   ]
  },
  {
   "cell_type": "code",
   "execution_count": 15,
   "metadata": {},
   "outputs": [
    {
     "data": {
      "text/plain": [
       "array(['mood/theme---action', 'mood/theme---adventure',\n",
       "       'mood/theme---advertising', 'mood/theme---background',\n",
       "       'mood/theme---ballad', 'mood/theme---calm',\n",
       "       'mood/theme---children', 'mood/theme---christmas',\n",
       "       'mood/theme---commercial', 'mood/theme---cool',\n",
       "       'mood/theme---corporate', 'mood/theme---dark', 'mood/theme---deep',\n",
       "       'mood/theme---documentary', 'mood/theme---drama',\n",
       "       'mood/theme---dramatic', 'mood/theme---dream',\n",
       "       'mood/theme---emotional', 'mood/theme---energetic',\n",
       "       'mood/theme---epic', 'mood/theme---fast', 'mood/theme---film',\n",
       "       'mood/theme---fun', 'mood/theme---funny', 'mood/theme---game',\n",
       "       'mood/theme---groovy', 'mood/theme---happy', 'mood/theme---heavy',\n",
       "       'mood/theme---holiday', 'mood/theme---hopeful',\n",
       "       'mood/theme---inspiring', 'mood/theme---love',\n",
       "       'mood/theme---meditative', 'mood/theme---melancholic',\n",
       "       'mood/theme---melodic', 'mood/theme---motivational',\n",
       "       'mood/theme---movie', 'mood/theme---nature', 'mood/theme---party',\n",
       "       'mood/theme---positive', 'mood/theme---powerful',\n",
       "       'mood/theme---relaxing', 'mood/theme---retro',\n",
       "       'mood/theme---romantic', 'mood/theme---sad', 'mood/theme---sexy',\n",
       "       'mood/theme---slow', 'mood/theme---soft',\n",
       "       'mood/theme---soundscape', 'mood/theme---space',\n",
       "       'mood/theme---sport', 'mood/theme---summer',\n",
       "       'mood/theme---trailer', 'mood/theme---travel',\n",
       "       'mood/theme---upbeat', 'mood/theme---uplifting'], dtype='<U31')"
      ]
     },
     "execution_count": 15,
     "metadata": {},
     "output_type": "execute_result"
    }
   ],
   "source": [
    "tag_list = np.load(\"/home/rai/다운로드/mtg-jamendo-dataset-master/tag_list.npy\")\n",
    "tag_list = tag_list[127:]\n",
    "tag_list"
   ]
  },
  {
   "cell_type": "code",
   "execution_count": 1,
   "metadata": {},
   "outputs": [
    {
     "data": {
      "text/plain": [
       "Linear(in_features=64, out_features=56, bias=True)"
      ]
     },
     "execution_count": 1,
     "metadata": {},
     "output_type": "execute_result"
    }
   ],
   "source": [
    "import torch\n",
    "import torch.nn as nn\n",
    "from model import CNN\n",
    "import numpy as np\n",
    "device = torch.device('cuda:0') if torch.cuda.is_available() else torch.device('cpu')\n",
    "model = CNN(56).to(device=device)\n",
    "model_state_dict = torch.load('mood_models/best_model.pth')\n",
    "model.load_state_dict(model_state_dict)\n",
    "model.dense"
   ]
  },
  {
   "cell_type": "code",
   "execution_count": 998,
   "metadata": {},
   "outputs": [],
   "source": [
    "batch_size = 8\n",
    "npy_bat = np.zeros((batch_size,96,1400))\n",
    "for n in range(1,batch_size + 1):\n",
    "    file = '/home/rai/다운로드/emotifymusic/rock/mel/' + str(n) + '.npy'\n",
    "    npy = np.load(file, allow_pickle=True)\n",
    "    npy_bat[n - 1, :, :] = npy[:, 0:1400]\n",
    "npy_bat = npy_bat.astype(np.float32)"
   ]
  },
  {
   "cell_type": "code",
   "execution_count": 999,
   "metadata": {},
   "outputs": [
    {
     "name": "stdout",
     "output_type": "stream",
     "text": [
      "torch.Size([8, 96, 1400])\n"
     ]
    }
   ],
   "source": [
    "npy = npy_bat\n",
    "npy = torch.from_numpy(npy)\n",
    "\n",
    "npy = npy.to(device)\n",
    "print(npy.shape)\n",
    "#Sigmoid"
   ]
  },
  {
   "cell_type": "code",
   "execution_count": 1116,
   "metadata": {},
   "outputs": [],
   "source": [
    "result = model(npy)"
   ]
  },
  {
   "cell_type": "code",
   "execution_count": 1117,
   "metadata": {},
   "outputs": [
    {
     "data": {
      "text/plain": [
       "torch.Size([8, 56])"
      ]
     },
     "execution_count": 1117,
     "metadata": {},
     "output_type": "execute_result"
    }
   ],
   "source": [
    "np.shape(result)"
   ]
  },
  {
   "cell_type": "code",
   "execution_count": 1118,
   "metadata": {},
   "outputs": [],
   "source": [
    "result = result.cpu()\n",
    "result = result.detach().numpy()"
   ]
  },
  {
   "cell_type": "code",
   "execution_count": 1119,
   "metadata": {},
   "outputs": [
    {
     "data": {
      "text/plain": [
       "0.45557845"
      ]
     },
     "execution_count": 1119,
     "metadata": {},
     "output_type": "execute_result"
    }
   ],
   "source": [
    "np.max(result)"
   ]
  },
  {
   "cell_type": "code",
   "execution_count": 1120,
   "metadata": {},
   "outputs": [
    {
     "data": {
      "text/plain": [
       "['nothing',\n",
       " 'nothing',\n",
       " 'nothing',\n",
       " 'nothing',\n",
       " array(['mood/theme---relaxing'], dtype='<U31'),\n",
       " 'nothing',\n",
       " 'nothing',\n",
       " 'nothing']"
      ]
     },
     "execution_count": 1120,
     "metadata": {},
     "output_type": "execute_result"
    }
   ],
   "source": [
    "result_tag = []\n",
    "for k in range(batch_size):\n",
    "    sigmoid = result[k]\n",
    "    tag = tag_list[sigmoid>=0.3]\n",
    "    \n",
    "    if tag.size == 0:\n",
    "        result_tag.append('nothing')\n",
    "    else:\n",
    "        result_tag.append(tag)\n",
    "        \n",
    "result_tag"
   ]
  },
  {
   "cell_type": "code",
   "execution_count": 1139,
   "metadata": {},
   "outputs": [
    {
     "data": {
      "text/html": [
       "<div>\n",
       "<style scoped>\n",
       "    .dataframe tbody tr th:only-of-type {\n",
       "        vertical-align: middle;\n",
       "    }\n",
       "\n",
       "    .dataframe tbody tr th {\n",
       "        vertical-align: top;\n",
       "    }\n",
       "\n",
       "    .dataframe thead th {\n",
       "        text-align: right;\n",
       "    }\n",
       "</style>\n",
       "<table border=\"1\" class=\"dataframe\">\n",
       "  <thead>\n",
       "    <tr style=\"text-align: right;\">\n",
       "      <th></th>\n",
       "      <th>0</th>\n",
       "      <th>1</th>\n",
       "      <th>2</th>\n",
       "      <th>3</th>\n",
       "      <th>4</th>\n",
       "      <th>5</th>\n",
       "      <th>6</th>\n",
       "      <th>7</th>\n",
       "      <th>8</th>\n",
       "      <th>9</th>\n",
       "      <th>10</th>\n",
       "      <th>11</th>\n",
       "    </tr>\n",
       "  </thead>\n",
       "  <tbody>\n",
       "    <tr>\n",
       "      <th>0</th>\n",
       "      <td>TRACK_ID</td>\n",
       "      <td>ARTIST_ID</td>\n",
       "      <td>ALBUM_ID</td>\n",
       "      <td>PATH</td>\n",
       "      <td>DURATION</td>\n",
       "      <td>TAGS</td>\n",
       "      <td>None</td>\n",
       "      <td>None</td>\n",
       "      <td>None</td>\n",
       "      <td>None</td>\n",
       "      <td>None</td>\n",
       "      <td>None</td>\n",
       "    </tr>\n",
       "    <tr>\n",
       "      <th>1</th>\n",
       "      <td>track_0003524</td>\n",
       "      <td>artist_000530</td>\n",
       "      <td>album_000552</td>\n",
       "      <td>24/3524.mp3</td>\n",
       "      <td>266.1</td>\n",
       "      <td>mood/theme---melodic</td>\n",
       "      <td>None</td>\n",
       "      <td>None</td>\n",
       "      <td>None</td>\n",
       "      <td>None</td>\n",
       "      <td>None</td>\n",
       "      <td>None</td>\n",
       "    </tr>\n",
       "    <tr>\n",
       "      <th>2</th>\n",
       "      <td>track_0004882</td>\n",
       "      <td>artist_000696</td>\n",
       "      <td>album_000751</td>\n",
       "      <td>82/4882.mp3</td>\n",
       "      <td>210.4</td>\n",
       "      <td>mood/theme---meditative</td>\n",
       "      <td>None</td>\n",
       "      <td>None</td>\n",
       "      <td>None</td>\n",
       "      <td>None</td>\n",
       "      <td>None</td>\n",
       "      <td>None</td>\n",
       "    </tr>\n",
       "    <tr>\n",
       "      <th>3</th>\n",
       "      <td>track_0004883</td>\n",
       "      <td>artist_000696</td>\n",
       "      <td>album_000751</td>\n",
       "      <td>83/4883.mp3</td>\n",
       "      <td>249.5</td>\n",
       "      <td>mood/theme---meditative</td>\n",
       "      <td>None</td>\n",
       "      <td>None</td>\n",
       "      <td>None</td>\n",
       "      <td>None</td>\n",
       "      <td>None</td>\n",
       "      <td>None</td>\n",
       "    </tr>\n",
       "    <tr>\n",
       "      <th>4</th>\n",
       "      <td>track_0004884</td>\n",
       "      <td>artist_000696</td>\n",
       "      <td>album_000751</td>\n",
       "      <td>84/4884.mp3</td>\n",
       "      <td>220.7</td>\n",
       "      <td>mood/theme---meditative</td>\n",
       "      <td>None</td>\n",
       "      <td>None</td>\n",
       "      <td>None</td>\n",
       "      <td>None</td>\n",
       "      <td>None</td>\n",
       "      <td>None</td>\n",
       "    </tr>\n",
       "    <tr>\n",
       "      <th>...</th>\n",
       "      <td>...</td>\n",
       "      <td>...</td>\n",
       "      <td>...</td>\n",
       "      <td>...</td>\n",
       "      <td>...</td>\n",
       "      <td>...</td>\n",
       "      <td>...</td>\n",
       "      <td>...</td>\n",
       "      <td>...</td>\n",
       "      <td>...</td>\n",
       "      <td>...</td>\n",
       "      <td>...</td>\n",
       "    </tr>\n",
       "    <tr>\n",
       "      <th>4227</th>\n",
       "      <td>track_1420586</td>\n",
       "      <td>artist_497202</td>\n",
       "      <td>album_165688</td>\n",
       "      <td>86/1420586.mp3</td>\n",
       "      <td>292.7</td>\n",
       "      <td>mood/theme---deep</td>\n",
       "      <td>mood/theme---summer</td>\n",
       "      <td>None</td>\n",
       "      <td>None</td>\n",
       "      <td>None</td>\n",
       "      <td>None</td>\n",
       "      <td>None</td>\n",
       "    </tr>\n",
       "    <tr>\n",
       "      <th>4228</th>\n",
       "      <td>track_1420587</td>\n",
       "      <td>artist_497202</td>\n",
       "      <td>album_165688</td>\n",
       "      <td>87/1420587.mp3</td>\n",
       "      <td>202.7</td>\n",
       "      <td>mood/theme---deep</td>\n",
       "      <td>mood/theme---summer</td>\n",
       "      <td>None</td>\n",
       "      <td>None</td>\n",
       "      <td>None</td>\n",
       "      <td>None</td>\n",
       "      <td>None</td>\n",
       "    </tr>\n",
       "    <tr>\n",
       "      <th>4229</th>\n",
       "      <td>track_1420588</td>\n",
       "      <td>artist_497202</td>\n",
       "      <td>album_165688</td>\n",
       "      <td>88/1420588.mp3</td>\n",
       "      <td>251.9</td>\n",
       "      <td>mood/theme---deep</td>\n",
       "      <td>mood/theme---summer</td>\n",
       "      <td>None</td>\n",
       "      <td>None</td>\n",
       "      <td>None</td>\n",
       "      <td>None</td>\n",
       "      <td>None</td>\n",
       "    </tr>\n",
       "    <tr>\n",
       "      <th>4230</th>\n",
       "      <td>track_1420849</td>\n",
       "      <td>artist_496074</td>\n",
       "      <td>album_165717</td>\n",
       "      <td>49/1420849.mp3</td>\n",
       "      <td>314.3</td>\n",
       "      <td>mood/theme---dramatic</td>\n",
       "      <td>None</td>\n",
       "      <td>None</td>\n",
       "      <td>None</td>\n",
       "      <td>None</td>\n",
       "      <td>None</td>\n",
       "      <td>None</td>\n",
       "    </tr>\n",
       "    <tr>\n",
       "      <th>4231</th>\n",
       "      <td>track_1420850</td>\n",
       "      <td>artist_496074</td>\n",
       "      <td>album_165717</td>\n",
       "      <td>50/1420850.mp3</td>\n",
       "      <td>183.4</td>\n",
       "      <td>mood/theme---dramatic</td>\n",
       "      <td>mood/theme---epic</td>\n",
       "      <td>None</td>\n",
       "      <td>None</td>\n",
       "      <td>None</td>\n",
       "      <td>None</td>\n",
       "      <td>None</td>\n",
       "    </tr>\n",
       "  </tbody>\n",
       "</table>\n",
       "<p>4232 rows × 12 columns</p>\n",
       "</div>"
      ],
      "text/plain": [
       "                 0              1             2               3         4   \\\n",
       "0          TRACK_ID      ARTIST_ID      ALBUM_ID            PATH  DURATION   \n",
       "1     track_0003524  artist_000530  album_000552     24/3524.mp3     266.1   \n",
       "2     track_0004882  artist_000696  album_000751     82/4882.mp3     210.4   \n",
       "3     track_0004883  artist_000696  album_000751     83/4883.mp3     249.5   \n",
       "4     track_0004884  artist_000696  album_000751     84/4884.mp3     220.7   \n",
       "...             ...            ...           ...             ...       ...   \n",
       "4227  track_1420586  artist_497202  album_165688  86/1420586.mp3     292.7   \n",
       "4228  track_1420587  artist_497202  album_165688  87/1420587.mp3     202.7   \n",
       "4229  track_1420588  artist_497202  album_165688  88/1420588.mp3     251.9   \n",
       "4230  track_1420849  artist_496074  album_165717  49/1420849.mp3     314.3   \n",
       "4231  track_1420850  artist_496074  album_165717  50/1420850.mp3     183.4   \n",
       "\n",
       "                           5                    6     7     8     9     10  \\\n",
       "0                        TAGS                 None  None  None  None  None   \n",
       "1        mood/theme---melodic                 None  None  None  None  None   \n",
       "2     mood/theme---meditative                 None  None  None  None  None   \n",
       "3     mood/theme---meditative                 None  None  None  None  None   \n",
       "4     mood/theme---meditative                 None  None  None  None  None   \n",
       "...                       ...                  ...   ...   ...   ...   ...   \n",
       "4227        mood/theme---deep  mood/theme---summer  None  None  None  None   \n",
       "4228        mood/theme---deep  mood/theme---summer  None  None  None  None   \n",
       "4229        mood/theme---deep  mood/theme---summer  None  None  None  None   \n",
       "4230    mood/theme---dramatic                 None  None  None  None  None   \n",
       "4231    mood/theme---dramatic    mood/theme---epic  None  None  None  None   \n",
       "\n",
       "        11  \n",
       "0     None  \n",
       "1     None  \n",
       "2     None  \n",
       "3     None  \n",
       "4     None  \n",
       "...    ...  \n",
       "4227  None  \n",
       "4228  None  \n",
       "4229  None  \n",
       "4230  None  \n",
       "4231  None  \n",
       "\n",
       "[4232 rows x 12 columns]"
      ]
     },
     "execution_count": 1139,
     "metadata": {},
     "output_type": "execute_result"
    }
   ],
   "source": [
    "import csv\n",
    "import pandas as pd\n",
    "\n",
    "f = open(\"/home/rai/다운로드/mtg-jamendo-dataset-master/data/splits/split-0/autotagging_moodtheme-test.tsv\", encoding='utf8')\n",
    "reader = csv.reader(f, delimiter='\\t')\n",
    "\n",
    "mood = []\n",
    "for i in reader:\n",
    "    mood.append(i)\n",
    "f.close()\n",
    "mood = pd.DataFrame(mood)\n",
    "mood"
   ]
  },
  {
   "cell_type": "code",
   "execution_count": 95,
   "metadata": {},
   "outputs": [
    {
     "data": {
      "text/plain": [
       "Linear(in_features=64, out_features=56, bias=True)"
      ]
     },
     "execution_count": 95,
     "metadata": {},
     "output_type": "execute_result"
    }
   ],
   "source": [
    "import torch\n",
    "import torch.nn as nn\n",
    "from model import CNN\n",
    "import numpy as np\n",
    "device = torch.device('cuda:0')\n",
    "model = CNN(56).to(device=device)\n",
    "model_state_dict = torch.load('mood_models/best_model.pth')\n",
    "model.load_state_dict(model_state_dict)\n",
    "model.dense"
   ]
  },
  {
   "cell_type": "code",
   "execution_count": 96,
   "metadata": {},
   "outputs": [],
   "source": [
    "batch_size = 8\n",
    "npy_bat = np.zeros((batch_size,96,1400))\n",
    "\n",
    "file = '/home/rai/다운로드/mtg-jamendo-dataset-master/path/npy/24/3524.npy'\n",
    "npy = np.load(file, allow_pickle=True)\n",
    "npy_bat[0, :, :] = npy[:, 0:1400]\n",
    "\n",
    "file = '/home/rai/다운로드/mtg-jamendo-dataset-master/path/npy/82/4882.npy'\n",
    "npy = np.load(file, allow_pickle=True)\n",
    "npy_bat[1, :, :] = npy[:, 0:1400]\n",
    "\n",
    "file = '/home/rai/다운로드/mtg-jamendo-dataset-master/path/npy/83/4883.npy'\n",
    "npy = np.load(file, allow_pickle=True)\n",
    "npy_bat[2, :, :] = npy[:, 0:1400]\n",
    "\n",
    "file = '/home/rai/다운로드/mtg-jamendo-dataset-master/path/npy/84/4884.npy'\n",
    "npy = np.load(file, allow_pickle=True)\n",
    "npy_bat[3, :, :] = npy[:, 0:1400]\n",
    "\n",
    "file = '/home/rai/다운로드/mtg-jamendo-dataset-master/path/npy/86/1420586.npy'\n",
    "npy = np.load(file, allow_pickle=True)\n",
    "npy_bat[4, :, :] = npy[:, 0:1400]\n",
    "\n",
    "file = '/home/rai/다운로드/mtg-jamendo-dataset-master/path/npy/87/1420587.npy'\n",
    "npy = np.load(file, allow_pickle=True)\n",
    "npy_bat[5, :, :] = npy[:, 0:1400]\n",
    "\n",
    "file = '/home/rai/다운로드/mtg-jamendo-dataset-master/path/npy/88/1420588.npy'\n",
    "npy = np.load(file, allow_pickle=True)\n",
    "npy_bat[6, :, :] = npy[:, 0:1400]\n",
    "\n",
    "file = '/home/rai/다운로드/mtg-jamendo-dataset-master/path/npy/49/1420849.npy'\n",
    "npy = np.load(file, allow_pickle=True)\n",
    "npy_bat[7, :, :] = npy[:, 0:1400]\n",
    "\n",
    "npy_bat = npy_bat.astype(np.float32)"
   ]
  },
  {
   "cell_type": "code",
   "execution_count": 103,
   "metadata": {},
   "outputs": [
    {
     "name": "stdout",
     "output_type": "stream",
     "text": [
      "torch.Size([8, 96, 1400])\n"
     ]
    }
   ],
   "source": [
    "npy = npy_bat\n",
    "npy = torch.from_numpy(npy)\n",
    "\n",
    "npy = npy.to(device)\n",
    "print(npy.shape)\n",
    "#Sigmoid"
   ]
  },
  {
   "cell_type": "code",
   "execution_count": 148,
   "metadata": {},
   "outputs": [
    {
     "data": {
      "text/plain": [
       "0.29130616039037704"
      ]
     },
     "execution_count": 148,
     "metadata": {},
     "output_type": "execute_result"
    }
   ],
   "source": [
    "num = 10\n",
    "sum = np.zeros((batch_size, 56))\n",
    "for i in range(num):\n",
    "    result = model(npy)\n",
    "    result = result.cpu()\n",
    "    result = result.detach().numpy()\n",
    "    sum += result\n",
    "mean = sum / num\n",
    "np.max(mean)"
   ]
  },
  {
   "cell_type": "code",
   "execution_count": 149,
   "metadata": {},
   "outputs": [
    {
     "data": {
      "text/plain": [
       "['nothing',\n",
       " 'nothing',\n",
       " 'nothing',\n",
       " 'nothing',\n",
       " 'nothing',\n",
       " 'nothing',\n",
       " 'nothing',\n",
       " 'nothing']"
      ]
     },
     "execution_count": 149,
     "metadata": {},
     "output_type": "execute_result"
    }
   ],
   "source": [
    "result_tag = []\n",
    "for k in range(batch_size):\n",
    "    sigmoid = mean[k]\n",
    "    tag = tag_list[sigmoid>=0.5]\n",
    "    \n",
    "    if tag.size == 0:\n",
    "        result_tag.append('nothing')\n",
    "    else:\n",
    "        result_tag.append(tag)\n",
    "        \n",
    "result_tag"
   ]
  },
  {
   "cell_type": "code",
   "execution_count": 152,
   "metadata": {},
   "outputs": [
    {
     "name": "stdout",
     "output_type": "stream",
     "text": [
      "[0.0093794  0.00743994 0.03490946 0.01870481 0.00081316 0.01465558\n",
      " 0.00178963 0.00236941 0.01154559 0.01672218 0.02432997 0.03787954\n",
      " 0.04485313 0.01761038 0.0036377  0.00474314 0.04624933 0.01481607\n",
      " 0.06109475 0.0135147  0.00284035 0.02915319 0.00608341 0.0033884\n",
      " 0.00378338 0.00512939 0.02380432 0.00231193 0.00046495 0.00592841\n",
      " 0.02556837 0.0083008  0.00796282 0.00328631 0.03121127 0.01901062\n",
      " 0.00867739 0.00308672 0.00945039 0.01400737 0.00278592 0.03751105\n",
      " 0.00927484 0.01095989 0.00676296 0.00662445 0.00648093 0.00567205\n",
      " 0.03477603 0.04457954 0.01907557 0.00742553 0.00146769 0.00553099\n",
      " 0.01445034 0.03770784]\n",
      "[2.24105367e-03 1.06180753e-02 1.75450447e-02 1.71330714e-02\n",
      " 2.57286039e-02 5.82474869e-02 6.82702407e-03 2.93864482e-02\n",
      " 2.69232377e-03 7.39911441e-03 4.86852821e-03 3.88153598e-02\n",
      " 4.41818385e-03 2.67014323e-02 4.33326846e-02 7.95193511e-03\n",
      " 1.10229938e-01 1.06410878e-01 7.94414783e-03 2.00314694e-02\n",
      " 3.55215687e-04 8.40807192e-02 1.91088029e-03 8.03658362e-04\n",
      " 4.92796525e-03 5.70481524e-04 1.81294073e-02 1.98770917e-04\n",
      " 5.51659354e-03 8.84767342e-03 2.10971042e-02 3.33953562e-02\n",
      " 1.61617858e-01 4.43852219e-02 3.12943626e-02 1.05982202e-02\n",
      " 1.51242966e-02 2.01563673e-02 8.04428493e-04 4.35991120e-03\n",
      " 3.94058989e-04 2.91306160e-01 3.10349232e-03 5.21353988e-02\n",
      " 1.08595787e-01 2.74447768e-04 3.01445091e-02 3.49407063e-02\n",
      " 6.67819122e-02 4.92804959e-02 8.57041655e-04 1.28081015e-03\n",
      " 1.12227287e-03 4.77375434e-03 1.12158330e-03 8.70482778e-03]\n"
     ]
    }
   ],
   "source": [
    "print(mean[0])\n",
    "print(mean[1])"
   ]
  },
  {
   "cell_type": "code",
   "execution_count": 151,
   "metadata": {},
   "outputs": [
    {
     "name": "stdout",
     "output_type": "stream",
     "text": [
      "[0.00944398 0.02797113 0.06501906 0.07922236 0.02496681 0.04341706\n",
      " 0.02015148 0.06546817 0.03841611 0.02202723 0.05853711 0.05372874\n",
      " 0.01289797 0.04313523 0.02184348 0.01814949 0.07711811 0.06561141\n",
      " 0.07939976 0.0251214  0.00704786 0.05450741 0.03153061 0.00977086\n",
      " 0.03051976 0.01033142 0.13386284 0.00530622 0.0209472  0.02488785\n",
      " 0.09072892 0.08634143 0.03775924 0.02971969 0.10563992 0.07734646\n",
      " 0.02097185 0.01655667 0.01161706 0.04926325 0.00900364 0.08217905\n",
      " 0.0167083  0.06307996 0.05143759 0.00553336 0.02650961 0.03221552\n",
      " 0.02676188 0.02559623 0.02043775 0.01314108 0.00403166 0.01884381\n",
      " 0.02101695 0.0639491 ]\n",
      "[0.00944398 0.02797113 0.06501906 0.07922236 0.02496681 0.04341706\n",
      " 0.02015148 0.06546817 0.03841611 0.02202723 0.05853711 0.05372874\n",
      " 0.01289797 0.04313523 0.02184348 0.01814949 0.07711811 0.06561141\n",
      " 0.07939976 0.0251214  0.00704786 0.05450741 0.03153061 0.00977086\n",
      " 0.03051976 0.01033142 0.13386284 0.00530622 0.0209472  0.02488785\n",
      " 0.09072892 0.08634143 0.03775924 0.02971969 0.10563992 0.07734646\n",
      " 0.02097185 0.01655667 0.01161706 0.04926325 0.00900364 0.08217905\n",
      " 0.0167083  0.06307996 0.05143759 0.00553336 0.02650961 0.03221552\n",
      " 0.02676188 0.02559623 0.02043775 0.01314108 0.00403166 0.01884381\n",
      " 0.02101695 0.0639491 ]\n",
      "[0.00944398 0.02797113 0.06501906 0.07922236 0.02496681 0.04341706\n",
      " 0.02015148 0.06546817 0.03841611 0.02202723 0.05853711 0.05372874\n",
      " 0.01289797 0.04313523 0.02184348 0.01814949 0.07711811 0.06561141\n",
      " 0.07939976 0.0251214  0.00704786 0.05450741 0.03153061 0.00977086\n",
      " 0.03051976 0.01033142 0.13386284 0.00530622 0.0209472  0.02488785\n",
      " 0.09072892 0.08634143 0.03775924 0.02971969 0.10563992 0.07734646\n",
      " 0.02097185 0.01655667 0.01161706 0.04926325 0.00900364 0.08217905\n",
      " 0.0167083  0.06307996 0.05143759 0.00553336 0.02650961 0.03221552\n",
      " 0.02676188 0.02559623 0.02043775 0.01314108 0.00403166 0.01884381\n",
      " 0.02101695 0.0639491 ]\n",
      "[0.00944398 0.02797113 0.06501906 0.07922236 0.02496681 0.04341706\n",
      " 0.02015148 0.06546817 0.03841611 0.02202723 0.05853711 0.05372874\n",
      " 0.01289797 0.04313523 0.02184348 0.01814949 0.07711811 0.06561141\n",
      " 0.07939976 0.0251214  0.00704786 0.05450741 0.03153061 0.00977086\n",
      " 0.03051976 0.01033142 0.13386284 0.00530622 0.0209472  0.02488785\n",
      " 0.09072892 0.08634143 0.03775924 0.02971969 0.10563992 0.07734646\n",
      " 0.02097185 0.01655667 0.01161706 0.04926325 0.00900364 0.08217905\n",
      " 0.0167083  0.06307996 0.05143759 0.00553336 0.02650961 0.03221552\n",
      " 0.02676188 0.02559623 0.02043775 0.01314108 0.00403166 0.01884381\n",
      " 0.02101695 0.0639491 ]\n"
     ]
    }
   ],
   "source": [
    "prd = np.load('prd.npy')\n",
    "for i in range(4):\n",
    "    print(prd[3])"
   ]
  },
  {
   "cell_type": "code",
   "execution_count": 155,
   "metadata": {},
   "outputs": [
    {
     "data": {
      "text/plain": [
       "(4231, 56)"
      ]
     },
     "execution_count": 155,
     "metadata": {},
     "output_type": "execute_result"
    }
   ],
   "source": [
    "np.shape(prd)"
   ]
  },
  {
   "cell_type": "code",
   "execution_count": 154,
   "metadata": {},
   "outputs": [
    {
     "data": {
      "text/plain": [
       "153"
      ]
     },
     "execution_count": 154,
     "metadata": {},
     "output_type": "execute_result"
    }
   ],
   "source": [
    "count = prd>0.5\n",
    "np.count_nonzero(count)"
   ]
  }
 ],
 "metadata": {
  "kernelspec": {
   "display_name": "Python 3.8.10 ('venv': venv)",
   "language": "python",
   "name": "python3"
  },
  "language_info": {
   "codemirror_mode": {
    "name": "ipython",
    "version": 3
   },
   "file_extension": ".py",
   "mimetype": "text/x-python",
   "name": "python",
   "nbconvert_exporter": "python",
   "pygments_lexer": "ipython3",
   "version": "3.8.10"
  },
  "orig_nbformat": 4,
  "vscode": {
   "interpreter": {
    "hash": "89cefc259bfe2f1f616978de08e449af5e0cce932241ba43bdcc83b00c173a37"
   }
  }
 },
 "nbformat": 4,
 "nbformat_minor": 2
}
