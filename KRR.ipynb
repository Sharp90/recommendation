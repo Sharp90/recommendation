{
 "cells": [
  {
   "cell_type": "code",
   "execution_count": 73,
   "metadata": {},
   "outputs": [],
   "source": [
    "import numpy as np\n",
    "\n",
    "def Kernel_Ridge_Regression(x_train, y_train, x_test, ker_func, lamb = 1, degree = 3, gamma = 1, coef0 = 1):\n",
    "    n = len(y_train)\n",
    "    iden = lamb * np.eye(n)\n",
    "    K = np.zeros((n, n))\n",
    "    \n",
    "    # linear function\n",
    "    if ker_func == 0:\n",
    "        for i in range(n):\n",
    "            for j in range(n):\n",
    "                K[i][j] = x_train[i].dot(x_train[j])\n",
    "    # polynomial function\n",
    "    elif ker_func == 1:\n",
    "        for i in range(n):\n",
    "            for j in range(n):\n",
    "                K[i][j] = ((x_train[i].dot(x_train[j])) * gamma + coef0) ** degree\n",
    "    # radial basis function(RBF)\n",
    "    elif ker_func == 2:\n",
    "        for i in range(n):\n",
    "            for j in range(n):\n",
    "                K[i][j] = np.exp(-(np.linalg.norm(x_train[i] - x_train[j]) ** 2))\n",
    "    else:\n",
    "        exit(1)\n",
    "        \n",
    "    w = (x_train.T).dot(np.linalg.inv(iden + K).dot(y_train)) # X?\n",
    "    y_pred = [w.dot(k) for k in x_test]\n",
    "    return y_pred\n"
   ]
  },
  {
   "cell_type": "code",
   "execution_count": 74,
   "metadata": {},
   "outputs": [
    {
     "name": "stdout",
     "output_type": "stream",
     "text": [
      "[4.702450408401424, -0.16763905095292708]\n",
      "[0.32089195833997675, -0.1408681023979952]\n",
      "[1245.0, 384.5]\n"
     ]
    }
   ],
   "source": [
    "X = np.arange(1, 13).reshape(3,4)\n",
    "y = np.array([0, 1, 2])\n",
    "X_test = np.array([[21, 22, 23, 24], [1, 5, 8, 12]])\n",
    "\n",
    "for i in range(3):\n",
    "    print(Kernel_Ridge_Regression(X, y, X_test, ker_func = i, degree = 2, gamma =  1, coef0 = 1))"
   ]
  },
  {
   "cell_type": "code",
   "execution_count": 75,
   "metadata": {},
   "outputs": [
    {
     "name": "stdout",
     "output_type": "stream",
     "text": [
      "[ 4.70245041 -0.16763905]\n",
      "[ 5.67821888 -0.67175692]\n",
      "[7.02066780e-251 8.56954216e-016]\n"
     ]
    }
   ],
   "source": [
    "from sklearn.kernel_ridge import KernelRidge\n",
    "\n",
    "krr = KernelRidge(alpha=1.0)\n",
    "krr.fit(X, y)\n",
    "print(krr.predict(X_test))\n",
    "krr2 = KernelRidge(kernel = \"poly\", degree = 2, gamma = 1, coef0 = 1)\n",
    "krr2.fit(X, y)\n",
    "print(krr2.predict(X_test))\n",
    "krr3 = KernelRidge(kernel = 'rbf', gamma = 1)\n",
    "krr3.fit(X, y)\n",
    "print(krr3.predict(X_test))"
   ]
  }
 ],
 "metadata": {
  "kernelspec": {
   "display_name": "Python 3.8.10 64-bit",
   "language": "python",
   "name": "python3"
  },
  "language_info": {
   "codemirror_mode": {
    "name": "ipython",
    "version": 3
   },
   "file_extension": ".py",
   "mimetype": "text/x-python",
   "name": "python",
   "nbconvert_exporter": "python",
   "pygments_lexer": "ipython3",
   "version": "3.8.10"
  },
  "orig_nbformat": 4,
  "vscode": {
   "interpreter": {
    "hash": "916dbcbb3f70747c44a77c7bcd40155683ae19c65e1c03b4aa3499c5328201f1"
   }
  }
 },
 "nbformat": 4,
 "nbformat_minor": 2
}
