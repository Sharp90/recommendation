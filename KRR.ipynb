{
 "cells": [
  {
   "cell_type": "code",
   "execution_count": 15,
   "metadata": {},
   "outputs": [],
   "source": [
    "import numpy as np\n",
    "\n",
    "def Kernel_Ridge_Regression(x_train, y_train, lamb, x_test):\n",
    "    n = len(y_train)\n",
    "    iden = lamb * np.eye(n)\n",
    "    K = np.zeros((n, n))\n",
    "    \n",
    "    for i in range(n):\n",
    "        for j in range(n):\n",
    "            K[i][j] = x_train[i].dot(x_train[j])\n",
    "    \n",
    "    w = (x_train.T).dot(np.linalg.inv(iden + K).dot(y_train))\n",
    "    y_pred = [w.dot(k) for k in x_test]\n",
    "    return y_pred"
   ]
  },
  {
   "cell_type": "code",
   "execution_count": 16,
   "metadata": {},
   "outputs": [
    {
     "name": "stdout",
     "output_type": "stream",
     "text": [
      "[4.702450408401424, -0.16763905095292708]\n"
     ]
    },
    {
     "data": {
      "text/plain": [
       "array([ 4.70245041, -0.16763905])"
      ]
     },
     "execution_count": 16,
     "metadata": {},
     "output_type": "execute_result"
    }
   ],
   "source": [
    "X = np.arange(1, 13).reshape(3,4)\n",
    "y = np.array([0, 1, 2])\n",
    "X_test = np.array([[21, 22, 23, 24], [1, 5, 8, 12]])\n",
    "print(Kernel_Ridge_Regression(X, y, 1, X_test))\n",
    "\n",
    "from sklearn.kernel_ridge import KernelRidge\n",
    "\n",
    "krr = KernelRidge(alpha=1.0)\n",
    "krr.fit(X, y)\n",
    "krr.predict(X_test)"
   ]
  }
 ],
 "metadata": {
  "kernelspec": {
   "display_name": "Python 3.8.10 64-bit",
   "language": "python",
   "name": "python3"
  },
  "language_info": {
   "codemirror_mode": {
    "name": "ipython",
    "version": 3
   },
   "file_extension": ".py",
   "mimetype": "text/x-python",
   "name": "python",
   "nbconvert_exporter": "python",
   "pygments_lexer": "ipython3",
   "version": "3.8.10"
  },
  "orig_nbformat": 4,
  "vscode": {
   "interpreter": {
    "hash": "916dbcbb3f70747c44a77c7bcd40155683ae19c65e1c03b4aa3499c5328201f1"
   }
  }
 },
 "nbformat": 4,
 "nbformat_minor": 2
}
