{
 "cells": [
  {
   "cell_type": "code",
   "execution_count": 4,
   "metadata": {},
   "outputs": [],
   "source": [
    "import numpy as np\n",
    "\n",
    "def Kernel_Ridge_Regression(x_train, y_train, x_test, ker_mode, lamb = 1, degree = 3, gamma = 1, coef0 = 1):\n",
    "    n = len(y_train)\n",
    "    n_test = len(x_test)\n",
    "    iden = lamb * np.eye(n)\n",
    "    K = np.zeros((n, n))\n",
    "    \n",
    "    # linear function\n",
    "    if ker_mode == 0:\n",
    "        ker_func = lambda x,y: x.dot(y)\n",
    "    # polynomial function\n",
    "    elif ker_mode == 1:\n",
    "        ker_func = lambda x,y: ((x.dot(y)) * gamma + coef0) ** degree\n",
    "    # radial basis function(RBF)\n",
    "    elif ker_mode == 2:\n",
    "        ker_func = lambda x,y: np.exp(-(np.linalg.norm(x - y) ** 2))\n",
    "    else:\n",
    "        exit(1)\n",
    "        \n",
    "    for i in range(n):\n",
    "        for j in range(n):\n",
    "            K[i][j] = ker_func(x_train[i], x_train[j])            \n",
    "    alpha = np.linalg.inv(iden + K).dot(y_train) \n",
    "    \n",
    "    K_test = np.zeros((n_test, n))\n",
    "    for i in range(n_test):\n",
    "        for j in range(n):\n",
    "            K_test[i][j] = ker_func(x_test[i], x_train[j])\n",
    "    \n",
    "    y_pred = np.matmul(K_test,alpha)\n",
    "    return y_pred\n"
   ]
  },
  {
   "cell_type": "code",
   "execution_count": 5,
   "metadata": {},
   "outputs": [
    {
     "name": "stdout",
     "output_type": "stream",
     "text": [
      "[ 4.70245041 -0.16763905]\n",
      "[ 5.67821888 -0.67175692]\n",
      "[7.02066780e-251 8.56954216e-016]\n"
     ]
    }
   ],
   "source": [
    "X = np.arange(1, 13).reshape(3,4)\n",
    "y = np.array([0, 1, 2])\n",
    "X_test = np.array([[21, 22, 23, 24], [1, 5, 8, 12]])\n",
    "\n",
    "for i in range(3):\n",
    "    print(Kernel_Ridge_Regression(X, y, X_test, i, degree = 2, gamma =  1, coef0 = 1))"
   ]
  },
  {
   "cell_type": "code",
   "execution_count": 75,
   "metadata": {},
   "outputs": [
    {
     "name": "stdout",
     "output_type": "stream",
     "text": [
      "[ 4.70245041 -0.16763905]\n",
      "[ 5.67821888 -0.67175692]\n",
      "[7.02066780e-251 8.56954216e-016]\n"
     ]
    }
   ],
   "source": [
    "from sklearn.kernel_ridge import KernelRidge\n",
    "\n",
    "krr = KernelRidge(alpha=1.0)\n",
    "krr.fit(X, y)\n",
    "print(krr.predict(X_test))\n",
    "krr2 = KernelRidge(kernel = \"poly\", degree = 2, gamma = 1, coef0 = 1)\n",
    "krr2.fit(X, y)\n",
    "print(krr2.predict(X_test))\n",
    "krr3 = KernelRidge(kernel = 'rbf', gamma = 1)\n",
    "krr3.fit(X, y)\n",
    "print(krr3.predict(X_test))"
   ]
  }
 ],
 "metadata": {
  "kernelspec": {
   "display_name": "Python 3.8.10 64-bit",
   "language": "python",
   "name": "python3"
  },
  "language_info": {
   "codemirror_mode": {
    "name": "ipython",
    "version": 3
   },
   "file_extension": ".py",
   "mimetype": "text/x-python",
   "name": "python",
   "nbconvert_exporter": "python",
   "pygments_lexer": "ipython3",
   "version": "3.8.10"
  },
  "orig_nbformat": 4,
  "vscode": {
   "interpreter": {
    "hash": "916dbcbb3f70747c44a77c7bcd40155683ae19c65e1c03b4aa3499c5328201f1"
   }
  }
 },
 "nbformat": 4,
 "nbformat_minor": 2
}
